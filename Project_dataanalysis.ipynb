{
  "nbformat": 4,
  "nbformat_minor": 0,
  "metadata": {
    "colab": {
      "name": "Project_dataanalysis",
      "provenance": [],
      "collapsed_sections": [],
      "mount_file_id": "114Qg6NifIEQV1PPO2mS4sLhnym8f5aBi",
      "authorship_tag": "ABX9TyPWklvAAHyvqATa7UKlmIxb",
      "include_colab_link": true
    },
    "kernelspec": {
      "name": "python3",
      "display_name": "Python 3"
    },
    "language_info": {
      "name": "python"
    }
  },
  "cells": [
    {
      "cell_type": "markdown",
      "metadata": {
        "id": "view-in-github",
        "colab_type": "text"
      },
      "source": [
        "<a href=\"https://colab.research.google.com/github/Choi-Moori/DAP__/blob/main/Project_dataanalysis.ipynb\" target=\"_parent\"><img src=\"https://colab.research.google.com/assets/colab-badge.svg\" alt=\"Open In Colab\"/></a>"
      ]
    },
    {
      "cell_type": "code",
      "metadata": {
        "id": "Nx0NfPzhjREu"
      },
      "source": [
        "import numpy as np\n",
        "import pandas as pd"
      ],
      "execution_count": 31,
      "outputs": []
    },
    {
      "cell_type": "code",
      "metadata": {
        "colab": {
          "base_uri": "https://localhost:8080/"
        },
        "id": "yhXJMIX0lKHs",
        "outputId": "b754969b-3a74-4ba0-e655-9fbd551dc7b0"
      },
      "source": [
        "from google.colab import drive\n",
        "drive.mount('/content/drive')"
      ],
      "execution_count": 32,
      "outputs": [
        {
          "output_type": "stream",
          "name": "stdout",
          "text": [
            "Drive already mounted at /content/drive; to attempt to forcibly remount, call drive.mount(\"/content/drive\", force_remount=True).\n"
          ]
        }
      ]
    },
    {
      "cell_type": "code",
      "metadata": {
        "id": "4-Tg3CQmj2XX"
      },
      "source": [
        "file = '/content/20200701weatherinfo.csv'"
      ],
      "execution_count": 33,
      "outputs": []
    },
    {
      "cell_type": "code",
      "metadata": {
        "colab": {
          "base_uri": "https://localhost:8080/",
          "height": 206
        },
        "id": "10daH7AimMwr",
        "outputId": "ad1c1c1e-c4cf-418d-f8fa-a1dc4f6784d5"
      },
      "source": [
        "df = pd.read_csv(file, encoding = 'cp949')\n",
        "df.head()"
      ],
      "execution_count": 34,
      "outputs": [
        {
          "output_type": "execute_result",
          "data": {
            "text/html": [
              "<div>\n",
              "<style scoped>\n",
              "    .dataframe tbody tr th:only-of-type {\n",
              "        vertical-align: middle;\n",
              "    }\n",
              "\n",
              "    .dataframe tbody tr th {\n",
              "        vertical-align: top;\n",
              "    }\n",
              "\n",
              "    .dataframe thead th {\n",
              "        text-align: right;\n",
              "    }\n",
              "</style>\n",
              "<table border=\"1\" class=\"dataframe\">\n",
              "  <thead>\n",
              "    <tr style=\"text-align: right;\">\n",
              "      <th></th>\n",
              "      <th>지점</th>\n",
              "      <th>지점명</th>\n",
              "      <th>일시</th>\n",
              "      <th>평균기온(°C)</th>\n",
              "      <th>최저기온(°C)</th>\n",
              "      <th>최고기온(°C)</th>\n",
              "      <th>일강수량(mm)</th>\n",
              "      <th>평균 상대습도(%)</th>\n",
              "      <th>평균 지면온도(°C)</th>\n",
              "    </tr>\n",
              "  </thead>\n",
              "  <tbody>\n",
              "    <tr>\n",
              "      <th>0</th>\n",
              "      <td>108</td>\n",
              "      <td>서울</td>\n",
              "      <td>2020-07-01</td>\n",
              "      <td>21.1</td>\n",
              "      <td>18.1</td>\n",
              "      <td>24.3</td>\n",
              "      <td>0.0</td>\n",
              "      <td>79.3</td>\n",
              "      <td>21.3</td>\n",
              "    </tr>\n",
              "    <tr>\n",
              "      <th>1</th>\n",
              "      <td>108</td>\n",
              "      <td>서울</td>\n",
              "      <td>2020-07-02</td>\n",
              "      <td>24.2</td>\n",
              "      <td>20.4</td>\n",
              "      <td>29.8</td>\n",
              "      <td>NaN</td>\n",
              "      <td>74.5</td>\n",
              "      <td>24.5</td>\n",
              "    </tr>\n",
              "    <tr>\n",
              "      <th>2</th>\n",
              "      <td>108</td>\n",
              "      <td>서울</td>\n",
              "      <td>2020-07-03</td>\n",
              "      <td>25.5</td>\n",
              "      <td>21.6</td>\n",
              "      <td>30.6</td>\n",
              "      <td>0.1</td>\n",
              "      <td>63.5</td>\n",
              "      <td>28.6</td>\n",
              "    </tr>\n",
              "    <tr>\n",
              "      <th>3</th>\n",
              "      <td>108</td>\n",
              "      <td>서울</td>\n",
              "      <td>2020-07-04</td>\n",
              "      <td>24.2</td>\n",
              "      <td>20.4</td>\n",
              "      <td>29.5</td>\n",
              "      <td>1.6</td>\n",
              "      <td>63.9</td>\n",
              "      <td>28.2</td>\n",
              "    </tr>\n",
              "    <tr>\n",
              "      <th>4</th>\n",
              "      <td>108</td>\n",
              "      <td>서울</td>\n",
              "      <td>2020-07-05</td>\n",
              "      <td>23.8</td>\n",
              "      <td>19.9</td>\n",
              "      <td>27.6</td>\n",
              "      <td>NaN</td>\n",
              "      <td>68.6</td>\n",
              "      <td>26.7</td>\n",
              "    </tr>\n",
              "  </tbody>\n",
              "</table>\n",
              "</div>"
            ],
            "text/plain": [
              "    지점 지점명          일시  평균기온(°C)  ...  최고기온(°C)  일강수량(mm)  평균 상대습도(%)  평균 지면온도(°C)\n",
              "0  108  서울  2020-07-01      21.1  ...      24.3       0.0        79.3         21.3\n",
              "1  108  서울  2020-07-02      24.2  ...      29.8       NaN        74.5         24.5\n",
              "2  108  서울  2020-07-03      25.5  ...      30.6       0.1        63.5         28.6\n",
              "3  108  서울  2020-07-04      24.2  ...      29.5       1.6        63.9         28.2\n",
              "4  108  서울  2020-07-05      23.8  ...      27.6       NaN        68.6         26.7\n",
              "\n",
              "[5 rows x 9 columns]"
            ]
          },
          "metadata": {},
          "execution_count": 34
        }
      ]
    },
    {
      "cell_type": "code",
      "metadata": {
        "id": "lM68tQYAnSla"
      },
      "source": [
        "file2 = '/content/20200701-20210630_bycle.csv'"
      ],
      "execution_count": 35,
      "outputs": []
    },
    {
      "cell_type": "code",
      "metadata": {
        "colab": {
          "base_uri": "https://localhost:8080/",
          "height": 206
        },
        "id": "3m7QV2HQnt7v",
        "outputId": "2d916459-d91d-40fa-f83d-0e8b04868b60"
      },
      "source": [
        "df2 = pd.read_csv(file2, encoding = 'cp949')\n",
        "df2.head()"
      ],
      "execution_count": 38,
      "outputs": [
        {
          "output_type": "execute_result",
          "data": {
            "text/html": [
              "<div>\n",
              "<style scoped>\n",
              "    .dataframe tbody tr th:only-of-type {\n",
              "        vertical-align: middle;\n",
              "    }\n",
              "\n",
              "    .dataframe tbody tr th {\n",
              "        vertical-align: top;\n",
              "    }\n",
              "\n",
              "    .dataframe thead th {\n",
              "        text-align: right;\n",
              "    }\n",
              "</style>\n",
              "<table border=\"1\" class=\"dataframe\">\n",
              "  <thead>\n",
              "    <tr style=\"text-align: right;\">\n",
              "      <th></th>\n",
              "      <th>대여일시</th>\n",
              "      <th>대여건수</th>\n",
              "    </tr>\n",
              "  </thead>\n",
              "  <tbody>\n",
              "    <tr>\n",
              "      <th>0</th>\n",
              "      <td>2020-07-01</td>\n",
              "      <td>105,196</td>\n",
              "    </tr>\n",
              "    <tr>\n",
              "      <th>1</th>\n",
              "      <td>2020-07-02</td>\n",
              "      <td>107,842</td>\n",
              "    </tr>\n",
              "    <tr>\n",
              "      <th>2</th>\n",
              "      <td>2020-07-03</td>\n",
              "      <td>102,753</td>\n",
              "    </tr>\n",
              "    <tr>\n",
              "      <th>3</th>\n",
              "      <td>2020-07-04</td>\n",
              "      <td>98,488</td>\n",
              "    </tr>\n",
              "    <tr>\n",
              "      <th>4</th>\n",
              "      <td>2020-07-05</td>\n",
              "      <td>104,664</td>\n",
              "    </tr>\n",
              "  </tbody>\n",
              "</table>\n",
              "</div>"
            ],
            "text/plain": [
              "         대여일시     대여건수\n",
              "0  2020-07-01  105,196\n",
              "1  2020-07-02  107,842\n",
              "2  2020-07-03  102,753\n",
              "3  2020-07-04   98,488\n",
              "4  2020-07-05  104,664"
            ]
          },
          "metadata": {},
          "execution_count": 38
        }
      ]
    }
  ]
}