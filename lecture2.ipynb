{
  "nbformat": 4,
  "nbformat_minor": 0,
  "metadata": {
    "colab": {
      "name": "lecture2.ipynb",
      "provenance": [],
      "collapsed_sections": [],
      "include_colab_link": true
    },
    "kernelspec": {
      "name": "python3",
      "display_name": "Python 3"
    },
    "language_info": {
      "name": "python"
    }
  },
  "cells": [
    {
      "cell_type": "markdown",
      "metadata": {
        "id": "view-in-github",
        "colab_type": "text"
      },
      "source": [
        "<a href=\"https://colab.research.google.com/github/Choi-Moori/DAP__/blob/main/lecture2.ipynb\" target=\"_parent\"><img src=\"https://colab.research.google.com/assets/colab-badge.svg\" alt=\"Open In Colab\"/></a>"
      ]
    },
    {
      "cell_type": "code",
      "metadata": {
        "id": "HNPNzCabLo7S"
      },
      "source": [
        "import numpy as np\n",
        "import pandas as pd\n",
        "\n",
        "np.random.seed(0)"
      ],
      "execution_count": 2,
      "outputs": []
    },
    {
      "cell_type": "markdown",
      "metadata": {
        "id": "7BZpwooJxpkj"
      },
      "source": [
        "# NumPy Exercises!\n",
        "Complete the solution code to have a desired output.\n",
        "\n",
        "**[Caution!]** Not allow to use iteration, such as for-loop.\n",
        "\n",
        "\n",
        "\n"
      ]
    },
    {
      "cell_type": "markdown",
      "metadata": {
        "id": "kXhonLDSK0_j"
      },
      "source": [
        "### 1. Create a 4×4 numpy array of all True boolean’s "
      ]
    },
    {
      "cell_type": "code",
      "metadata": {
        "colab": {
          "base_uri": "https://localhost:8080/"
        },
        "id": "wM9StYWNK0Xr",
        "outputId": "feb8361c-1b58-46fc-c7a4-ac2589cdcc55"
      },
      "source": [
        "# Input\n",
        "arr_size = (4, 4)\n",
        "\n",
        "# Solution\n",
        "bool_arr = np.full(arr_size , True , dtype=bool)\n",
        "\n",
        "# Print\n",
        "print(bool_arr)"
      ],
      "execution_count": null,
      "outputs": [
        {
          "output_type": "stream",
          "name": "stdout",
          "text": [
            "[[ True  True  True  True]\n",
            " [ True  True  True  True]\n",
            " [ True  True  True  True]\n",
            " [ True  True  True  True]]\n"
          ]
        }
      ]
    },
    {
      "cell_type": "markdown",
      "metadata": {
        "id": "pCTPSJIyMFAu"
      },
      "source": [
        "### 2. Extract all odd numbers from given `arr`"
      ]
    },
    {
      "cell_type": "code",
      "metadata": {
        "colab": {
          "base_uri": "https://localhost:8080/"
        },
        "id": "_XmWs6POMFuS",
        "outputId": "9287e3d3-47b8-444b-8341-9789cf14f2b1"
      },
      "source": [
        "# Input\n",
        "arr = np.arange(30)\n",
        "\n",
        "# Solution\n",
        "arr = arr[arr%2!=0]\n",
        "\n",
        "# Print\n",
        "print(arr)"
      ],
      "execution_count": null,
      "outputs": [
        {
          "output_type": "stream",
          "name": "stdout",
          "text": [
            "[ 1  3  5  7  9 11 13 15 17 19 21 23 25 27 29]\n"
          ]
        }
      ]
    },
    {
      "cell_type": "markdown",
      "metadata": {
        "id": "OAanUPrlNj-N"
      },
      "source": [
        "### 3. Get the positions where elements of `a` and `b` match\n",
        "(hint, refer [np.where](https://numpy.org/doc/stable/reference/generated/numpy.where.html).)\n",
        "\n"
      ]
    },
    {
      "cell_type": "code",
      "metadata": {
        "colab": {
          "base_uri": "https://localhost:8080/"
        },
        "id": "4VryzVtxNniI",
        "outputId": "3898e311-9196-4f99-f503-032dab6f050d"
      },
      "source": [
        "# Input\n",
        "a = np.array([1, 2, 3, 2, 3, 4, 3, 4, 5, 6])\n",
        "b = np.array([7, 2, 10, 2, 7, 4, 9, 4, 9, 8])\n",
        "\n",
        "# Solution\n",
        "idx = np.where(a == b) \n",
        "\n",
        "# Print\n",
        "print(idx)"
      ],
      "execution_count": null,
      "outputs": [
        {
          "output_type": "stream",
          "name": "stdout",
          "text": [
            "(array([1, 3, 5, 7]),)\n"
          ]
        }
      ]
    },
    {
      "cell_type": "markdown",
      "metadata": {
        "id": "Golu0NHiZNq3"
      },
      "source": [
        "### 4. Find the mean, median, standard deviation of iris's `sepallength` (1st column)."
      ]
    },
    {
      "cell_type": "markdown",
      "metadata": {
        "id": "5M15AZWHbrQC"
      },
      "source": [
        ""
      ]
    },
    {
      "cell_type": "code",
      "metadata": {
        "colab": {
          "base_uri": "https://localhost:8080/"
        },
        "id": "0ng7wdvoZpJe",
        "outputId": "13109dc9-daae-40ba-953e-e8fc1e952402"
      },
      "source": [
        "# Input\n",
        "url = 'https://archive.ics.uci.edu/ml/machine-learning-databases/iris/iris.data'\n",
        "iris = np.genfromtxt(url, delimiter=',', dtype='object')\n",
        "sepallength = np.genfromtxt(url, delimiter=',', dtype='float', usecols=[0])\n",
        "\n",
        "# Solution\n",
        "mu, med, std = np.mean(sepallength), np.median(sepallength), np.std(sepallength)\n",
        "\n",
        "\n",
        "# Print\n",
        "print(mu, med, std)"
      ],
      "execution_count": null,
      "outputs": [
        {
          "output_type": "stream",
          "name": "stdout",
          "text": [
            "5.843333333333334 5.8 0.8253012917851409\n"
          ]
        }
      ]
    },
    {
      "cell_type": "markdown",
      "metadata": {
        "id": "RIFj650ubDpr"
      },
      "source": [
        "### 5. Find the duplicate entries (2nd occurrence onwards) in the given numpy array and mark them as True. First time occurrences should be False.\n",
        "(hint, refer [np.unique](https://numpy.org/doc/stable/reference/generated/numpy.unique.html).)"
      ]
    },
    {
      "cell_type": "code",
      "metadata": {
        "colab": {
          "base_uri": "https://localhost:8080/"
        },
        "id": "W7u4Od_obJfd",
        "outputId": "6c75e59a-8402-4567-9a69-ed7ebabe86ed"
      },
      "source": [
        "# Input\n",
        "np.random.seed(100)\n",
        "a = np.random.randint(0, 5, 10)\n",
        "print('Array: ', a)\n",
        "\n",
        "# Solution\n",
        "## Create an all True array\n",
        "out = np.full(a.shape[0], True)\n",
        "\n",
        "## Find the index positions of unique elements\n",
        "result, unique_positions = np.unique(a, return_index=True)\n",
        "\n",
        "## Mark those positions as False\n",
        "out[unique_positions] = False\n",
        "\n",
        "print('Duplicate entrie: ', out)"
      ],
      "execution_count": 6,
      "outputs": [
        {
          "output_type": "stream",
          "name": "stdout",
          "text": [
            "Array:  [0 0 3 0 2 4 2 2 2 2]\n",
            "Duplicate entrie:  [False  True False  True False False  True  True  True  True]\n"
          ]
        }
      ]
    },
    {
      "cell_type": "markdown",
      "metadata": {
        "id": "Yx8npG2qeCCH"
      },
      "source": [
        "# Pandas Exercises!\n",
        "Complete the solution code to have a desired output. \n",
        "\n",
        "\n",
        "\n"
      ]
    },
    {
      "cell_type": "markdown",
      "metadata": {
        "id": "AF3TdV0ZepwD"
      },
      "source": [
        "### 6. Combine `ser1` and `ser2` to form a dataframe."
      ]
    },
    {
      "cell_type": "code",
      "metadata": {
        "colab": {
          "base_uri": "https://localhost:8080/"
        },
        "id": "AIV2AZO1ekG0",
        "outputId": "5747c10d-de9c-4371-aab8-be53a24be770"
      },
      "source": [
        "# Input\n",
        "ser1 = pd.Series(list('abcedfghijklmnopqrstuvwxyz'))\n",
        "ser2 = pd.Series(np.arange(26))\n",
        "\n",
        "# Solution \n",
        "df = pd.DataFrame({'col1' : ser1, 'col2' : ser2})\n",
        "\n",
        "# Print\n",
        "print(df.head())"
      ],
      "execution_count": null,
      "outputs": [
        {
          "output_type": "stream",
          "name": "stdout",
          "text": [
            "  col1  col2\n",
            "0    a     0\n",
            "1    b     1\n",
            "2    c     2\n",
            "3    e     3\n",
            "4    d     4\n"
          ]
        }
      ]
    },
    {
      "cell_type": "markdown",
      "metadata": {
        "id": "b6JSzVmsi6fo"
      },
      "source": [
        "### 7. Check if `df` has any missing values."
      ]
    },
    {
      "cell_type": "code",
      "metadata": {
        "colab": {
          "base_uri": "https://localhost:8080/"
        },
        "id": "dhqka6BNi8wF",
        "outputId": "1207f380-e553-4f65-c6cf-c955c2be1c25"
      },
      "source": [
        "# Input\n",
        "df = pd.read_csv('https://raw.githubusercontent.com/selva86/datasets/master/Cars93_miss.csv')\n",
        "print(df.head())\n",
        "\n",
        "# Solution\n",
        "print('\\nIs there any missing value?:', df.isnull().values.any())"
      ],
      "execution_count": null,
      "outputs": [
        {
          "output_type": "stream",
          "name": "stdout",
          "text": [
            "  Manufacturer    Model     Type  ...  Weight   Origin           Make\n",
            "0        Acura  Integra    Small  ...  2705.0  non-USA  Acura Integra\n",
            "1          NaN   Legend  Midsize  ...  3560.0  non-USA   Acura Legend\n",
            "2         Audi       90  Compact  ...  3375.0  non-USA        Audi 90\n",
            "3         Audi      100  Midsize  ...  3405.0  non-USA       Audi 100\n",
            "4          BMW     535i  Midsize  ...  3640.0  non-USA       BMW 535i\n",
            "\n",
            "[5 rows x 27 columns]\n",
            "\n",
            "Is there any missing value?: True\n"
          ]
        }
      ]
    },
    {
      "cell_type": "markdown",
      "metadata": {
        "id": "0jhPg-fJff9y"
      },
      "source": [
        "### 8. Create a TimeSeries starting `2021-01-01` and 10 weekends (sundays) after that **having** random numbers as values?"
      ]
    },
    {
      "cell_type": "code",
      "metadata": {
        "colab": {
          "base_uri": "https://localhost:8080/"
        },
        "id": "GL6TjFcCfmpt",
        "outputId": "4d003ee1-fb52-4149-f2d9-21c482036f98"
      },
      "source": [
        "# Solution\n",
        "pd.Series(pd.date_range('2021-01-01', periods=10, freq='W'))"
      ],
      "execution_count": null,
      "outputs": [
        {
          "output_type": "execute_result",
          "data": {
            "text/plain": [
              "0   2021-01-03\n",
              "1   2021-01-10\n",
              "2   2021-01-17\n",
              "3   2021-01-24\n",
              "4   2021-01-31\n",
              "5   2021-02-07\n",
              "6   2021-02-14\n",
              "7   2021-02-21\n",
              "8   2021-02-28\n",
              "9   2021-03-07\n",
              "dtype: datetime64[ns]"
            ]
          },
          "metadata": {},
          "execution_count": 57
        }
      ]
    },
    {
      "cell_type": "markdown",
      "metadata": {
        "id": "P1-wKPtmkcxe"
      },
      "source": [
        "### 9. In `df`, compute the mean price of every fruit using grouping function."
      ]
    },
    {
      "cell_type": "code",
      "metadata": {
        "colab": {
          "base_uri": "https://localhost:8080/"
        },
        "id": "7fa0q1N5kfbT",
        "outputId": "d0bc9793-fd9a-4409-d893-605649a9f793"
      },
      "source": [
        "# Input\n",
        "df = pd.DataFrame({'fruit': ['apple', 'banana', 'orange'] * 3,\n",
        "                   'rating': np.random.rand(9),\n",
        "                   'price': np.random.randint(0, 15, 9)})\n",
        "\n",
        "# Solution\n",
        "out = df.groupby('fruit').price.mean()\n",
        "print(out)"
      ],
      "execution_count": null,
      "outputs": [
        {
          "output_type": "stream",
          "name": "stdout",
          "text": [
            "fruit\n",
            "apple     10.333333\n",
            "banana     6.333333\n",
            "orange     7.000000\n",
            "Name: price, dtype: float64\n"
          ]
        }
      ]
    },
    {
      "cell_type": "markdown",
      "metadata": {
        "id": "ZSInSrZWldXS"
      },
      "source": [
        "### 10. Join two dataframes `df1` and `df2` for intersection items on `use_id`."
      ]
    },
    {
      "cell_type": "code",
      "metadata": {
        "colab": {
          "base_uri": "https://localhost:8080/"
        },
        "id": "gAMtcVrSllcc",
        "outputId": "663ee4eb-e412-4e81-96a4-f9b90882e88c"
      },
      "source": [
        "# Input\n",
        "base_path = 'https://raw.githubusercontent.com/shanealynn/Pandas-Merge-Tutorial/master/'\n",
        "df1 = pd.read_csv(base_path + 'user_usage.csv')\n",
        "df2 = pd.read_csv(base_path + 'user_device.csv')\n",
        "\n",
        "# Solution\n",
        "print(pd.merge(df1,df2))"
      ],
      "execution_count": null,
      "outputs": [
        {
          "output_type": "stream",
          "name": "stdout",
          "text": [
            "     outgoing_mins_per_month  ...  use_type_id\n",
            "0                      21.97  ...            1\n",
            "1                    1710.08  ...            1\n",
            "2                    1710.08  ...            1\n",
            "3                      94.46  ...            1\n",
            "4                      71.59  ...            1\n",
            "..                       ...  ...          ...\n",
            "154                   198.59  ...            1\n",
            "155                   198.59  ...            1\n",
            "156                   106.65  ...            1\n",
            "157                   344.53  ...            1\n",
            "158                    42.75  ...            1\n",
            "\n",
            "[159 rows x 9 columns]\n"
          ]
        }
      ]
    }
  ]
}